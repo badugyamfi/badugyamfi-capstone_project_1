{
 "cells": [
  {
   "cell_type": "markdown",
   "id": "5f65256d",
   "metadata": {},
   "source": [
    "# Set-up\n",
    "\n",
    "**Setting up the conda environment:**\n",
    "\n",
    "```\n",
    "conda create -n sql python\n",
    "conda activate sql\n",
    "conda install ipython-sql sqlalchemy psycopg2 notebook pandas -c conda-forge\n",
    "```\n",
    "\n",
    "**Dataset:**\n",
    "- [Cyclistic trip dataset](https://divvy-tripdata.s3.amazonaws.com/index.html)\n",
    "\n",
    "**License:**\n",
    "- The data has been made available by Motivate International Inc. under this [license](https://ride.divvybikes.com/data-license-agreement)"
   ]
  },
  {
   "cell_type": "markdown",
   "id": "ba191e97",
   "metadata": {},
   "source": [
    "## Bike_share"
   ]
  },
  {
   "cell_type": "markdown",
   "id": "19dafd2f",
   "metadata": {},
   "source": [
    "The project started with data cleaning using PostgreSQL"
   ]
  },
  {
   "cell_type": "markdown",
   "id": "f82b9b85",
   "metadata": {},
   "source": [
    "Preload monthly dataset from 2020-04 to 2021-12 in postgresql @ pgAdmin"
   ]
  },
  {
   "cell_type": "markdown",
   "id": "dcdd204f",
   "metadata": {},
   "source": [
    "The following code were used to assess postgresql, analyze, and clean the data."
   ]
  },
  {
   "cell_type": "code",
   "execution_count": null,
   "id": "83ef3e2e",
   "metadata": {},
   "outputs": [],
   "source": [
    "%load_ext sql"
   ]
  },
  {
   "cell_type": "code",
   "execution_count": null,
   "id": "16570315",
   "metadata": {},
   "outputs": [],
   "source": [
    "import os"
   ]
  },
  {
   "cell_type": "code",
   "execution_count": null,
   "id": "1c70f682",
   "metadata": {},
   "outputs": [],
   "source": [
    "host = \"localhost\"\n",
    "database = \"google_case_1\"\n",
    "user = os.getenv('SQL_USER')\n",
    "password = os.getenv('SQL_PASSWORD')"
   ]
  },
  {
   "cell_type": "code",
   "execution_count": null,
   "id": "6aaf8fa2",
   "metadata": {},
   "outputs": [],
   "source": [
    "connection_string = f\"postgresql://{user}:{password}@{host}/{database}\""
   ]
  },
  {
   "cell_type": "code",
   "execution_count": null,
   "id": "620f2113",
   "metadata": {},
   "outputs": [],
   "source": [
    "%sql $connection_string"
   ]
  },
  {
   "cell_type": "markdown",
   "id": "05387fd2",
   "metadata": {},
   "source": [
    "The following data type are present in the dataset:\n",
    "\n",
    "- ride_id      =      VARCHAR\n",
    "- rideable_type  =    VARCHAR\n",
    "- started_at     =    timestamp\n",
    "- ended_at       =    timestamp\n",
    "- start_station_name = VARCHAR\n",
    "- start_station_id =  VARCHAR\n",
    "- end_station_name =  VARCHAR\n",
    "- end_station_id = VARCHAR\n",
    "- start_lat       =   numeric\n",
    "- start_lng       =   numeric\n",
    "- end_lat         =   numeric\n",
    "- end_lng         =   numeric\n",
    "- member_casual    =  VARCHAR"
   ]
  },
  {
   "cell_type": "markdown",
   "id": "4bee9aab",
   "metadata": {},
   "source": [
    "Combine all the dataset into a single table without any duplicates using 'UNION'"
   ]
  },
  {
   "cell_type": "code",
   "execution_count": null,
   "id": "f971995f",
   "metadata": {
    "scrolled": false
   },
   "outputs": [],
   "source": [
    "%%sql \n",
    "\n",
    "CREATE TABLE public.combined_dataset AS(\n",
    "SELECT * FROM year_202004 UNION SELECT * FROM year_202005 UNION SELECT * FROM year_202006 UNION \n",
    "SELECT * FROM year_202007 UNION SELECT * FROM year_202008 UNION SELECT * FROM year_202009 UNION \n",
    "SELECT * FROM year_202010 UNION SELECT * FROM year_202011 UNION SELECT * FROM year_202012 UNION \n",
    "SELECT * FROM year_202101 UNION SELECT * FROM year_202102 UNION SELECT * FROM year_202103 UNION \n",
    "SELECT * FROM year_202104 UNION SELECT * FROM year_202105 UNION SELECT * FROM year_202106 UNION \n",
    "SELECT * FROM year_202107 UNION SELECT * FROM year_202108 UNION SELECT * FROM year_202109 UNION \n",
    "SELECT * FROM year_202110 UNION SELECT * FROM year_202111 UNION SELECT * FROM year_202112)\n"
   ]
  },
  {
   "cell_type": "markdown",
   "id": "ff31e9e9",
   "metadata": {},
   "source": [
    "Eliminate all rows with null values"
   ]
  },
  {
   "cell_type": "code",
   "execution_count": null,
   "id": "32193ce7",
   "metadata": {},
   "outputs": [],
   "source": [
    "%%sql\n",
    "\n",
    "CREATE TABLE public.combined_no_null AS(\n",
    "SELECT * FROM combined_dataset\n",
    "WHERE \n",
    "rideable_type IS NOT NULL AND started_at IS NOT NULL AND\n",
    "ended_at IS NOT NULL AND start_station_name IS NOT NULL AND \n",
    "start_station_id IS NOT NULL AND end_station_name IS NOT NULL AND\n",
    "end_station_id IS NOT NULL AND start_lat IS NOT NULL AND start_lng IS NOT NULL AND\n",
    "end_lat IS NOT NULL AND end_lng IS NOT NULL AND member_casual IS NOT NULL);"
   ]
  },
  {
   "cell_type": "markdown",
   "id": "4dbd41ef",
   "metadata": {},
   "source": [
    "Eliminate all rows with the 'ended_at' less than 'started_at'"
   ]
  },
  {
   "cell_type": "code",
   "execution_count": null,
   "id": "4ced2220",
   "metadata": {},
   "outputs": [],
   "source": [
    "%%sql\n",
    "\n",
    "CREATE TABLE cleaned_dataset AS(\n",
    "SELECT *\n",
    "\n",
    "FROM combined_no_null\n",
    "\n",
    "WHERE ended_at > started_at )\n",
    "\n"
   ]
  },
  {
   "cell_type": "markdown",
   "id": "a266b15c",
   "metadata": {},
   "source": [
    "The project was limited to only the last one year of data"
   ]
  },
  {
   "cell_type": "code",
   "execution_count": null,
   "id": "73d89a9e",
   "metadata": {},
   "outputs": [],
   "source": [
    "%%sql\n",
    "\n",
    "CREATE TABLE cleaned_dataset_2021 AS(\n",
    "SELECT *\n",
    "\n",
    "FROM cleaned_dataset\n",
    "\n",
    "WHERE started_at BETWEEN '2020-12-31 23:59:59' AND '2022-01-01 00:00:00')\n"
   ]
  },
  {
   "cell_type": "markdown",
   "id": "a28433d5",
   "metadata": {},
   "source": [
    "The final clean data was uploaded to Tableau to continue with analysis and visualization"
   ]
  }
 ],
 "metadata": {
  "hide_input": false,
  "kernelspec": {
   "display_name": "Python 3 (ipykernel)",
   "language": "python",
   "name": "python3"
  },
  "language_info": {
   "codemirror_mode": {
    "name": "ipython",
    "version": 3
   },
   "file_extension": ".py",
   "mimetype": "text/x-python",
   "name": "python",
   "nbconvert_exporter": "python",
   "pygments_lexer": "ipython3",
   "version": "3.10.0"
  },
  "toc": {
   "base_numbering": 1,
   "nav_menu": {},
   "number_sections": true,
   "sideBar": true,
   "skip_h1_title": false,
   "title_cell": "Table of Contents",
   "title_sidebar": "Contents",
   "toc_cell": false,
   "toc_position": {},
   "toc_section_display": true,
   "toc_window_display": false
  },
  "varInspector": {
   "cols": {
    "lenName": 16,
    "lenType": 16,
    "lenVar": 40
   },
   "kernels_config": {
    "python": {
     "delete_cmd_postfix": "",
     "delete_cmd_prefix": "del ",
     "library": "var_list.py",
     "varRefreshCmd": "print(var_dic_list())"
    },
    "r": {
     "delete_cmd_postfix": ") ",
     "delete_cmd_prefix": "rm(",
     "library": "var_list.r",
     "varRefreshCmd": "cat(var_dic_list()) "
    }
   },
   "types_to_exclude": [
    "module",
    "function",
    "builtin_function_or_method",
    "instance",
    "_Feature"
   ],
   "window_display": false
  }
 },
 "nbformat": 4,
 "nbformat_minor": 5
}
